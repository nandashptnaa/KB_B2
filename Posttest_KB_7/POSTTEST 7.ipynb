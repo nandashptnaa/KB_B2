{
 "cells": [
  {
   "cell_type": "markdown",
   "id": "4db9bd96",
   "metadata": {},
   "source": [
    "# NANDA SHEPTIANA 2009106096\n",
    "## POSTTEST 7 TENSORFLOW\n",
    "## KB B2 2020"
   ]
  },
  {
   "cell_type": "code",
   "execution_count": 2,
   "id": "d22f53a8",
   "metadata": {},
   "outputs": [],
   "source": [
    "import tensorflow as tf"
   ]
  },
  {
   "cell_type": "markdown",
   "id": "2554c1c9",
   "metadata": {},
   "source": [
    "### Tensor Random"
   ]
  },
  {
   "cell_type": "code",
   "execution_count": 22,
   "id": "4257eb64",
   "metadata": {},
   "outputs": [],
   "source": [
    "random_tensor = tf.random.normal([5,5], mean = 0, stddev = 1.0, seed = 1)"
   ]
  },
  {
   "cell_type": "code",
   "execution_count": 23,
   "id": "3b9b15d5",
   "metadata": {},
   "outputs": [
    {
     "data": {
      "text/plain": [
       "<tf.Tensor: shape=(5, 5), dtype=float32, numpy=\n",
       "array([[-0.8779576 ,  0.30241513,  0.69269043, -0.03312119,  0.15334924],\n",
       "       [-0.05293268, -0.42697585, -0.74988204, -1.248371  ,  0.8057842 ],\n",
       "       [-0.6682823 ,  0.4097648 ,  0.8608653 ,  0.8790354 ,  1.2187856 ],\n",
       "       [ 0.4769576 ,  0.09455841, -0.12560269, -1.0556796 , -0.5452273 ],\n",
       "       [ 0.81807566, -0.27364784,  0.37316537,  0.5857222 ,  0.26029605]],\n",
       "      dtype=float32)>"
      ]
     },
     "execution_count": 23,
     "metadata": {},
     "output_type": "execute_result"
    }
   ],
   "source": [
    "random_tensor"
   ]
  },
  {
   "cell_type": "markdown",
   "id": "2c7d6028",
   "metadata": {},
   "source": [
    "### List Tensor (tf.convert_to_tensor)"
   ]
  },
  {
   "cell_type": "code",
   "execution_count": 68,
   "id": "cc1c3e2b",
   "metadata": {},
   "outputs": [
    {
     "data": {
      "text/plain": [
       "<tf.Tensor: shape=(5, 5), dtype=float32, numpy=\n",
       "array([[  2.,   3.,   5.,   7.,  11.],\n",
       "       [ 13.,  17.,  19.,  23.,  29.],\n",
       "       [ 31.,  37.,  41.,  43.,  47.],\n",
       "       [ 53.,  59.,  61.,  71.,  73.],\n",
       "       [ 79.,  83.,  89.,  97., 101.]], dtype=float32)>"
      ]
     },
     "execution_count": 68,
     "metadata": {},
     "output_type": "execute_result"
    }
   ],
   "source": [
    "list_prime = [[2, 3, 5, 7, 11], \n",
    "              [13, 17, 19, 23, 29], \n",
    "              [31, 37, 41, 43, 47], \n",
    "              [53, 59, 61, 71, 73], \n",
    "              [79, 83, 89, 97, 101]]\n",
    "\n",
    "prime_tensor = tf.convert_to_tensor(list_prime, dtype = tf.float32)\n",
    "prime_tensor"
   ]
  },
  {
   "cell_type": "markdown",
   "id": "6136f9d8",
   "metadata": {},
   "source": [
    "### Dimension Display"
   ]
  },
  {
   "cell_type": "code",
   "execution_count": 69,
   "id": "8f39f0fb",
   "metadata": {},
   "outputs": [
    {
     "name": "stdout",
     "output_type": "stream",
     "text": [
      "Dimensi display Random : \n",
      "(5, 5)\n",
      "(5, 5)\n",
      "tf.Tensor([5 5], shape=(2,), dtype=int32)\n",
      "\n",
      "Dimensi display Prime : \n",
      "(5, 5)\n",
      "(5, 5)\n",
      "tf.Tensor([5 5], shape=(2,), dtype=int32)\n"
     ]
    }
   ],
   "source": [
    "# dimension display random\n",
    "print(\"Dimensi display Random : \")\n",
    "print(random_tensor.shape)\n",
    "print(random_tensor.get_shape())\n",
    "print(tf.shape(random_tensor))\n",
    "\n",
    "print()\n",
    "\n",
    "# dimension display prime\n",
    "print(\"Dimensi display Prime : \")\n",
    "print(prime_tensor.shape)\n",
    "print(prime_tensor.get_shape())\n",
    "print(tf.shape(prime_tensor))"
   ]
  },
  {
   "cell_type": "markdown",
   "id": "004421fd",
   "metadata": {},
   "source": [
    "### Dimension Reshaping"
   ]
  },
  {
   "cell_type": "code",
   "execution_count": 70,
   "id": "940feb3d",
   "metadata": {},
   "outputs": [
    {
     "name": "stdout",
     "output_type": "stream",
     "text": [
      "Dimensi Reshaping Random : \n"
     ]
    },
    {
     "data": {
      "text/plain": [
       "<tf.Tensor: shape=(5, 5), dtype=float32, numpy=\n",
       "array([[-0.8779576 ,  0.30241513,  0.69269043, -0.03312119,  0.15334924],\n",
       "       [-0.05293268, -0.42697585, -0.74988204, -1.248371  ,  0.8057842 ],\n",
       "       [-0.6682823 ,  0.4097648 ,  0.8608653 ,  0.8790354 ,  1.2187856 ],\n",
       "       [ 0.4769576 ,  0.09455841, -0.12560269, -1.0556796 , -0.5452273 ],\n",
       "       [ 0.81807566, -0.27364784,  0.37316537,  0.5857222 ,  0.26029605]],\n",
       "      dtype=float32)>"
      ]
     },
     "execution_count": 70,
     "metadata": {},
     "output_type": "execute_result"
    }
   ],
   "source": [
    "# dimension reshaping random\n",
    "print(\"Dimensi Reshaping Random : \")\n",
    "tf.reshape(random_tensor, (5,5))"
   ]
  },
  {
   "cell_type": "code",
   "execution_count": 71,
   "id": "9e6d8fe2",
   "metadata": {},
   "outputs": [
    {
     "name": "stdout",
     "output_type": "stream",
     "text": [
      "Dimensi Reshaping Random : \n"
     ]
    },
    {
     "data": {
      "text/plain": [
       "<tf.Tensor: shape=(5, 5), dtype=float32, numpy=\n",
       "array([[  2.,   3.,   5.,   7.,  11.],\n",
       "       [ 13.,  17.,  19.,  23.,  29.],\n",
       "       [ 31.,  37.,  41.,  43.,  47.],\n",
       "       [ 53.,  59.,  61.,  71.,  73.],\n",
       "       [ 79.,  83.,  89.,  97., 101.]], dtype=float32)>"
      ]
     },
     "execution_count": 71,
     "metadata": {},
     "output_type": "execute_result"
    }
   ],
   "source": [
    "# dimension reshaping prime\n",
    "print(\"Dimensi Reshaping Random : \")\n",
    "tf.reshape(prime_tensor, (5,5))"
   ]
  },
  {
   "cell_type": "markdown",
   "id": "e865b2ce",
   "metadata": {},
   "source": [
    "### Dimension Expansion"
   ]
  },
  {
   "cell_type": "code",
   "execution_count": 72,
   "id": "7e24f84a",
   "metadata": {},
   "outputs": [
    {
     "name": "stdout",
     "output_type": "stream",
     "text": [
      "Dimensi Expansion Random :  (5, 1, 5)\n",
      "Dimensi Expansion Prime :  (1, 5, 5)\n"
     ]
    }
   ],
   "source": [
    "# dimension expansion random\n",
    "expand_random = tf.expand_dims(random_tensor, axis = 1)\n",
    "print(\"Dimensi Expansion Random : \", expand_random.shape)\n",
    "\n",
    "# dimension expansion prime\n",
    "expand_prime = tf.expand_dims(prime_tensor, axis = 0)\n",
    "print(\"Dimensi Expansion Prime : \", expand_prime.shape)"
   ]
  },
  {
   "cell_type": "markdown",
   "id": "2afa7ed6",
   "metadata": {},
   "source": [
    "### Dimension Squeezing"
   ]
  },
  {
   "cell_type": "code",
   "execution_count": 73,
   "id": "dbb021c4",
   "metadata": {},
   "outputs": [
    {
     "name": "stdout",
     "output_type": "stream",
     "text": [
      "Dimensi Squeezing Random :  (5, 5)\n",
      "Dimensi Squeezing Prime :  (5, 5)\n"
     ]
    }
   ],
   "source": [
    "# dimension squeezing random\n",
    "squeeze_random = tf.squeeze(random_tensor)\n",
    "print(\"Dimensi Squeezing Random : \", squeeze_random.shape)\n",
    "\n",
    "# dimension squeezing prime\n",
    "squeeze_prime = tf.squeeze(prime_tensor)\n",
    "print(\"Dimensi Squeezing Prime : \", squeeze_prime.shape)"
   ]
  },
  {
   "cell_type": "markdown",
   "id": "0a4932af",
   "metadata": {},
   "source": [
    "### Operasi Aritmatika"
   ]
  },
  {
   "cell_type": "markdown",
   "id": "ebc1327a",
   "metadata": {},
   "source": [
    "#### Arithmetic Operators"
   ]
  },
  {
   "cell_type": "code",
   "execution_count": 77,
   "id": "558f39b9",
   "metadata": {},
   "outputs": [
    {
     "data": {
      "text/plain": [
       "<tf.Tensor: shape=(5, 5), dtype=float32, numpy=\n",
       "array([[  1.1220424,   3.3024151,   5.6926904,   6.966879 ,  11.153349 ],\n",
       "       [ 12.947067 ,  16.573025 ,  18.250118 ,  21.751629 ,  29.805784 ],\n",
       "       [ 30.331718 ,  37.409763 ,  41.860867 ,  43.879036 ,  48.218784 ],\n",
       "       [ 53.47696  ,  59.09456  ,  60.874397 ,  69.94432  ,  72.45477  ],\n",
       "       [ 79.81808  ,  82.72635  ,  89.37317  ,  97.585724 , 101.2603   ]],\n",
       "      dtype=float32)>"
      ]
     },
     "execution_count": 77,
     "metadata": {},
     "output_type": "execute_result"
    }
   ],
   "source": [
    "# Penjumlahan\n",
    "tf.add(random_tensor, prime_tensor).numpy()"
   ]
  },
  {
   "cell_type": "code",
   "execution_count": 78,
   "id": "56db6c2a",
   "metadata": {},
   "outputs": [
    {
     "data": {
      "text/plain": [
       "<tf.Tensor: shape=(5, 5), dtype=float32, numpy=\n",
       "array([[  -2.8779576,   -2.6975849,   -4.3073096,   -7.033121 ,\n",
       "         -10.846651 ],\n",
       "       [ -13.052933 ,  -17.426975 ,  -19.749882 ,  -24.248371 ,\n",
       "         -28.194216 ],\n",
       "       [ -31.668282 ,  -36.590237 ,  -40.139133 ,  -42.120964 ,\n",
       "         -45.781216 ],\n",
       "       [ -52.52304  ,  -58.90544  ,  -61.125603 ,  -72.05568  ,\n",
       "         -73.54523  ],\n",
       "       [ -78.18192  ,  -83.27365  ,  -88.62683  ,  -96.414276 ,\n",
       "        -100.7397   ]], dtype=float32)>"
      ]
     },
     "execution_count": 78,
     "metadata": {},
     "output_type": "execute_result"
    }
   ],
   "source": [
    "# Pengurangan\n",
    "tf.subtract(random_tensor, prime_tensor).numpy()"
   ]
  },
  {
   "cell_type": "code",
   "execution_count": 79,
   "id": "3e44c9e8",
   "metadata": {},
   "outputs": [
    {
     "data": {
      "text/plain": [
       "<tf.Tensor: shape=(5, 5), dtype=float32, numpy=\n",
       "array([[ -1.7559152 ,   0.9072454 ,   3.463452  ,  -0.23184831,\n",
       "          1.6868416 ],\n",
       "       [ -0.6881248 ,  -7.2585893 , -14.247759  , -28.712534  ,\n",
       "         23.367743  ],\n",
       "       [-20.716751  ,  15.161298  ,  35.29548   ,  37.798523  ,\n",
       "         57.282925  ],\n",
       "       [ 25.278751  ,   5.578946  ,  -7.661764  , -74.95325   ,\n",
       "        -39.801594  ],\n",
       "       [ 64.627975  , -22.71277   ,  33.21172   ,  56.815056  ,\n",
       "         26.2899    ]], dtype=float32)>"
      ]
     },
     "execution_count": 79,
     "metadata": {},
     "output_type": "execute_result"
    }
   ],
   "source": [
    "# Perkalian\n",
    "tf.multiply(random_tensor, prime_tensor).numpy()"
   ]
  },
  {
   "cell_type": "code",
   "execution_count": 80,
   "id": "910d8626",
   "metadata": {},
   "outputs": [
    {
     "data": {
      "text/plain": [
       "<tf.Tensor: shape=(5, 5), dtype=float32, numpy=\n",
       "array([[-0.4389788 ,  0.10080504,  0.13853809, -0.0047316 ,  0.01394084],\n",
       "       [-0.00407174, -0.02511623, -0.03946748, -0.054277  ,  0.02778566],\n",
       "       [-0.02155749,  0.01107472,  0.02099671,  0.02044268,  0.02593161],\n",
       "       [ 0.0089992 ,  0.00160268, -0.00205906, -0.01486873, -0.00746887],\n",
       "       [ 0.01035539, -0.00329696,  0.00419287,  0.00603837,  0.00257719]],\n",
       "      dtype=float32)>"
      ]
     },
     "execution_count": 80,
     "metadata": {},
     "output_type": "execute_result"
    }
   ],
   "source": [
    "# Pembagian\n",
    "tf.divide(random_tensor, prime_tensor).numpy()"
   ]
  },
  {
   "cell_type": "code",
   "execution_count": 84,
   "id": "408820e1",
   "metadata": {},
   "outputs": [
    {
     "data": {
      "text/plain": [
       "<tf.Tensor: shape=(5, 5), dtype=float32, numpy=\n",
       "array([[        nan, -1.1959546 , -0.3671721 ,         nan, -1.8750374 ],\n",
       "       [        nan,         nan,         nan,         nan, -0.21593928],\n",
       "       [        nan, -0.8921719 , -0.14981723, -0.12893009,  0.19785498],\n",
       "       [-0.7403277 , -2.3585374 ,         nan,         nan,         nan],\n",
       "       [-0.20080043,         nan, -0.9857336 , -0.53490967, -1.3459357 ]],\n",
       "      dtype=float32)>"
      ]
     },
     "execution_count": 84,
     "metadata": {},
     "output_type": "execute_result"
    }
   ],
   "source": [
    "# Logaritma random\n",
    "tf.math.log(random_tensor).numpy()"
   ]
  },
  {
   "cell_type": "code",
   "execution_count": 85,
   "id": "18ca9b2c",
   "metadata": {},
   "outputs": [
    {
     "data": {
      "text/plain": [
       "<tf.Tensor: shape=(5, 5), dtype=float32, numpy=\n",
       "array([[0.6931472, 1.0986123, 1.609438 , 1.9459102, 2.3978953],\n",
       "       [2.5649493, 2.8332133, 2.944439 , 3.1354942, 3.3672957],\n",
       "       [3.4339871, 3.610918 , 3.713572 , 3.7612002, 3.8501477],\n",
       "       [3.9702919, 4.0775375, 4.1108737, 4.26268  , 4.2904596],\n",
       "       [4.3694477, 4.4188404, 4.4886365, 4.574711 , 4.6151204]],\n",
       "      dtype=float32)>"
      ]
     },
     "execution_count": 85,
     "metadata": {},
     "output_type": "execute_result"
    }
   ],
   "source": [
    "# Logaritma prime\n",
    "tf.math.log(prime_tensor).numpy()"
   ]
  },
  {
   "cell_type": "code",
   "execution_count": 91,
   "id": "1c28e160",
   "metadata": {},
   "outputs": [
    {
     "data": {
      "text/plain": [
       "array([[ 7.7080953e-01,  2.7657349e-02,  1.5947622e-01, -4.3726155e-11,\n",
       "         1.1028026e-09],\n",
       "       [-2.5610028e-17, -5.2102223e-07, -4.2156652e-03, -1.6440102e+02,\n",
       "         1.9069710e-03],\n",
       "       [-3.7476423e-06,  4.6108590e-15,  2.1495284e-03,  3.9108754e-03,\n",
       "         1.0929103e+04],\n",
       "       [ 9.1080932e-18,  0.0000000e+00, -0.0000000e+00, -4.6857597e+01,\n",
       "        -5.8906562e-20],\n",
       "       [ 1.2902804e-07, -0.0000000e+00,  0.0000000e+00,  2.9247854e-23,\n",
       "         0.0000000e+00]], dtype=float32)"
      ]
     },
     "execution_count": 91,
     "metadata": {},
     "output_type": "execute_result"
    }
   ],
   "source": [
    "# Pangkat\n",
    "tf.pow(random_tensor, prime_tensor).numpy()"
   ]
  },
  {
   "cell_type": "markdown",
   "id": "d91505f4",
   "metadata": {},
   "source": [
    "#### Matrix Multiplication"
   ]
  },
  {
   "cell_type": "code",
   "execution_count": 86,
   "id": "a2e39286",
   "metadata": {},
   "outputs": [
    {
     "data": {
      "text/plain": [
       "<tf.Tensor: shape=(5, 5), dtype=float32, numpy=\n",
       "array([[  34.008053,   38.91057 ,   41.384094,   43.118805,   44.73938 ],\n",
       "       [ -31.409605,  -41.93683 ,  -43.558205,  -52.909164,  -57.955894],\n",
       "       [ 173.55016 ,  189.83546 ,  201.83267 ,  222.39755 ,  232.25967 ],\n",
       "       [-100.73448 , -109.147896, -113.89    , -127.72766 , -130.04716 ],\n",
       "       [  61.25352 ,   67.771515,   73.08625 ,   82.313736,   87.64944 ]],\n",
       "      dtype=float32)>"
      ]
     },
     "execution_count": 86,
     "metadata": {},
     "output_type": "execute_result"
    }
   ],
   "source": [
    "tf.matmul(random_tensor, prime_tensor)"
   ]
  },
  {
   "cell_type": "markdown",
   "id": "33fc1dd9",
   "metadata": {},
   "source": [
    "### Nilai Maksimal & Minimum"
   ]
  },
  {
   "cell_type": "markdown",
   "id": "35eec89b",
   "metadata": {},
   "source": [
    "#### Tensor Statistics Collection"
   ]
  },
  {
   "cell_type": "code",
   "execution_count": 95,
   "id": "9c92c0d2",
   "metadata": {},
   "outputs": [
    {
     "data": {
      "text/plain": [
       "array([2, 4, 4, 0, 0], dtype=int64)"
      ]
     },
     "execution_count": 95,
     "metadata": {},
     "output_type": "execute_result"
    }
   ],
   "source": [
    "# Statistic argmax random (maksimal)\n",
    "tf.argmax(random_tensor, axis = 1).numpy()"
   ]
  },
  {
   "cell_type": "code",
   "execution_count": 96,
   "id": "178b3034",
   "metadata": {},
   "outputs": [
    {
     "data": {
      "text/plain": [
       "array([4, 4, 4, 4, 4], dtype=int64)"
      ]
     },
     "execution_count": 96,
     "metadata": {},
     "output_type": "execute_result"
    }
   ],
   "source": [
    "# Statistic argmax prime (maksimal)\n",
    "tf.argmax(prime_tensor, axis = 1).numpy()"
   ]
  },
  {
   "cell_type": "code",
   "execution_count": 97,
   "id": "c23ebadd",
   "metadata": {},
   "outputs": [
    {
     "data": {
      "text/plain": [
       "array([0, 3, 0, 3, 1], dtype=int64)"
      ]
     },
     "execution_count": 97,
     "metadata": {},
     "output_type": "execute_result"
    }
   ],
   "source": [
    "# Statistic argmin random (minimal)\n",
    "tf.argmin(random_tensor, axis = 1).numpy()"
   ]
  },
  {
   "cell_type": "code",
   "execution_count": 98,
   "id": "b1272d46",
   "metadata": {},
   "outputs": [
    {
     "data": {
      "text/plain": [
       "array([0, 0, 0, 0, 0], dtype=int64)"
      ]
     },
     "execution_count": 98,
     "metadata": {},
     "output_type": "execute_result"
    }
   ],
   "source": [
    "# Statistic argmin prime (minimal)\n",
    "tf.argmin(prime_tensor, axis = 1).numpy()"
   ]
  },
  {
   "cell_type": "markdown",
   "id": "067f12a3",
   "metadata": {},
   "source": [
    "### Penggabungan (Tensor Concatenation)"
   ]
  },
  {
   "cell_type": "code",
   "execution_count": 100,
   "id": "a251e6c4",
   "metadata": {},
   "outputs": [
    {
     "name": "stdout",
     "output_type": "stream",
     "text": [
      "(10, 5)\n",
      "tf.Tensor(\n",
      "[[-8.7795758e-01  3.0241513e-01  6.9269043e-01 -3.3121187e-02\n",
      "   1.5334924e-01]\n",
      " [-5.2932676e-02 -4.2697585e-01 -7.4988204e-01 -1.2483710e+00\n",
      "   8.0578423e-01]\n",
      " [-6.6828227e-01  4.0976480e-01  8.6086529e-01  8.7903541e-01\n",
      "   1.2187856e+00]\n",
      " [ 4.7695759e-01  9.4558410e-02 -1.2560269e-01 -1.0556796e+00\n",
      "  -5.4522729e-01]\n",
      " [ 8.1807566e-01 -2.7364784e-01  3.7316537e-01  5.8572221e-01\n",
      "   2.6029605e-01]\n",
      " [ 2.0000000e+00  3.0000000e+00  5.0000000e+00  7.0000000e+00\n",
      "   1.1000000e+01]\n",
      " [ 1.3000000e+01  1.7000000e+01  1.9000000e+01  2.3000000e+01\n",
      "   2.9000000e+01]\n",
      " [ 3.1000000e+01  3.7000000e+01  4.1000000e+01  4.3000000e+01\n",
      "   4.7000000e+01]\n",
      " [ 5.3000000e+01  5.9000000e+01  6.1000000e+01  7.1000000e+01\n",
      "   7.3000000e+01]\n",
      " [ 7.9000000e+01  8.3000000e+01  8.9000000e+01  9.7000000e+01\n",
      "   1.0100000e+02]], shape=(10, 5), dtype=float32)\n"
     ]
    }
   ],
   "source": [
    "# tf.concat()\n",
    "concat = tf.concat([random_tensor, prime_tensor], axis = 0)\n",
    "print(concat.shape)\n",
    "print(concat)"
   ]
  },
  {
   "cell_type": "code",
   "execution_count": 101,
   "id": "bc36ecdb",
   "metadata": {},
   "outputs": [
    {
     "name": "stdout",
     "output_type": "stream",
     "text": [
      "(2, 5, 5)\n",
      "tf.Tensor(\n",
      "[[[-8.7795758e-01  3.0241513e-01  6.9269043e-01 -3.3121187e-02\n",
      "    1.5334924e-01]\n",
      "  [-5.2932676e-02 -4.2697585e-01 -7.4988204e-01 -1.2483710e+00\n",
      "    8.0578423e-01]\n",
      "  [-6.6828227e-01  4.0976480e-01  8.6086529e-01  8.7903541e-01\n",
      "    1.2187856e+00]\n",
      "  [ 4.7695759e-01  9.4558410e-02 -1.2560269e-01 -1.0556796e+00\n",
      "   -5.4522729e-01]\n",
      "  [ 8.1807566e-01 -2.7364784e-01  3.7316537e-01  5.8572221e-01\n",
      "    2.6029605e-01]]\n",
      "\n",
      " [[ 2.0000000e+00  3.0000000e+00  5.0000000e+00  7.0000000e+00\n",
      "    1.1000000e+01]\n",
      "  [ 1.3000000e+01  1.7000000e+01  1.9000000e+01  2.3000000e+01\n",
      "    2.9000000e+01]\n",
      "  [ 3.1000000e+01  3.7000000e+01  4.1000000e+01  4.3000000e+01\n",
      "    4.7000000e+01]\n",
      "  [ 5.3000000e+01  5.9000000e+01  6.1000000e+01  7.1000000e+01\n",
      "    7.3000000e+01]\n",
      "  [ 7.9000000e+01  8.3000000e+01  8.9000000e+01  9.7000000e+01\n",
      "    1.0100000e+02]]], shape=(2, 5, 5), dtype=float32)\n"
     ]
    }
   ],
   "source": [
    "# tf.stack()\n",
    "stack = tf.stack([random_tensor, prime_tensor], axis = 0)\n",
    "print(stack.shape)\n",
    "print(stack)"
   ]
  },
  {
   "cell_type": "markdown",
   "id": "49475cdc",
   "metadata": {},
   "source": [
    "### Sorting"
   ]
  },
  {
   "cell_type": "code",
   "execution_count": 104,
   "id": "195e17a1",
   "metadata": {},
   "outputs": [
    {
     "data": {
      "text/plain": [
       "<tf.Tensor: shape=(10, 5), dtype=float32, numpy=\n",
       "array([[ 6.9269043e-01,  3.0241513e-01,  1.5334924e-01, -3.3121187e-02,\n",
       "        -8.7795758e-01],\n",
       "       [ 8.0578423e-01, -5.2932676e-02, -4.2697585e-01, -7.4988204e-01,\n",
       "        -1.2483710e+00],\n",
       "       [ 1.2187856e+00,  8.7903541e-01,  8.6086529e-01,  4.0976480e-01,\n",
       "        -6.6828227e-01],\n",
       "       [ 4.7695759e-01,  9.4558410e-02, -1.2560269e-01, -5.4522729e-01,\n",
       "        -1.0556796e+00],\n",
       "       [ 8.1807566e-01,  5.8572221e-01,  3.7316537e-01,  2.6029605e-01,\n",
       "        -2.7364784e-01],\n",
       "       [ 1.1000000e+01,  7.0000000e+00,  5.0000000e+00,  3.0000000e+00,\n",
       "         2.0000000e+00],\n",
       "       [ 2.9000000e+01,  2.3000000e+01,  1.9000000e+01,  1.7000000e+01,\n",
       "         1.3000000e+01],\n",
       "       [ 4.7000000e+01,  4.3000000e+01,  4.1000000e+01,  3.7000000e+01,\n",
       "         3.1000000e+01],\n",
       "       [ 7.3000000e+01,  7.1000000e+01,  6.1000000e+01,  5.9000000e+01,\n",
       "         5.3000000e+01],\n",
       "       [ 1.0100000e+02,  9.7000000e+01,  8.9000000e+01,  8.3000000e+01,\n",
       "         7.9000000e+01]], dtype=float32)>"
      ]
     },
     "execution_count": 104,
     "metadata": {},
     "output_type": "execute_result"
    }
   ],
   "source": [
    "# sort concat\n",
    "tf.sort(concat, direction=\"DESCENDING\")"
   ]
  },
  {
   "cell_type": "code",
   "execution_count": 105,
   "id": "607dfdc8",
   "metadata": {},
   "outputs": [
    {
     "data": {
      "text/plain": [
       "<tf.Tensor: shape=(10, 5), dtype=int32, numpy=\n",
       "array([[2, 1, 4, 3, 0],\n",
       "       [4, 0, 1, 2, 3],\n",
       "       [4, 3, 2, 1, 0],\n",
       "       [0, 1, 2, 4, 3],\n",
       "       [0, 3, 2, 4, 1],\n",
       "       [4, 3, 2, 1, 0],\n",
       "       [4, 3, 2, 1, 0],\n",
       "       [4, 3, 2, 1, 0],\n",
       "       [4, 3, 2, 1, 0],\n",
       "       [4, 3, 2, 1, 0]])>"
      ]
     },
     "execution_count": 105,
     "metadata": {},
     "output_type": "execute_result"
    }
   ],
   "source": [
    "# argsort concat\n",
    "tf.argsort(concat, direction=\"DESCENDING\")"
   ]
  },
  {
   "cell_type": "code",
   "execution_count": 106,
   "id": "fa1339af",
   "metadata": {},
   "outputs": [
    {
     "data": {
      "text/plain": [
       "<tf.Tensor: shape=(2, 5, 5), dtype=float32, numpy=\n",
       "array([[[ 6.9269043e-01,  3.0241513e-01,  1.5334924e-01, -3.3121187e-02,\n",
       "         -8.7795758e-01],\n",
       "        [ 8.0578423e-01, -5.2932676e-02, -4.2697585e-01, -7.4988204e-01,\n",
       "         -1.2483710e+00],\n",
       "        [ 1.2187856e+00,  8.7903541e-01,  8.6086529e-01,  4.0976480e-01,\n",
       "         -6.6828227e-01],\n",
       "        [ 4.7695759e-01,  9.4558410e-02, -1.2560269e-01, -5.4522729e-01,\n",
       "         -1.0556796e+00],\n",
       "        [ 8.1807566e-01,  5.8572221e-01,  3.7316537e-01,  2.6029605e-01,\n",
       "         -2.7364784e-01]],\n",
       "\n",
       "       [[ 1.1000000e+01,  7.0000000e+00,  5.0000000e+00,  3.0000000e+00,\n",
       "          2.0000000e+00],\n",
       "        [ 2.9000000e+01,  2.3000000e+01,  1.9000000e+01,  1.7000000e+01,\n",
       "          1.3000000e+01],\n",
       "        [ 4.7000000e+01,  4.3000000e+01,  4.1000000e+01,  3.7000000e+01,\n",
       "          3.1000000e+01],\n",
       "        [ 7.3000000e+01,  7.1000000e+01,  6.1000000e+01,  5.9000000e+01,\n",
       "          5.3000000e+01],\n",
       "        [ 1.0100000e+02,  9.7000000e+01,  8.9000000e+01,  8.3000000e+01,\n",
       "          7.9000000e+01]]], dtype=float32)>"
      ]
     },
     "execution_count": 106,
     "metadata": {},
     "output_type": "execute_result"
    }
   ],
   "source": [
    "# sort stack\n",
    "tf.sort(stack, direction=\"DESCENDING\")"
   ]
  },
  {
   "cell_type": "code",
   "execution_count": 107,
   "id": "059f84e3",
   "metadata": {},
   "outputs": [
    {
     "data": {
      "text/plain": [
       "<tf.Tensor: shape=(2, 5, 5), dtype=int32, numpy=\n",
       "array([[[2, 1, 4, 3, 0],\n",
       "        [4, 0, 1, 2, 3],\n",
       "        [4, 3, 2, 1, 0],\n",
       "        [0, 1, 2, 4, 3],\n",
       "        [0, 3, 2, 4, 1]],\n",
       "\n",
       "       [[4, 3, 2, 1, 0],\n",
       "        [4, 3, 2, 1, 0],\n",
       "        [4, 3, 2, 1, 0],\n",
       "        [4, 3, 2, 1, 0],\n",
       "        [4, 3, 2, 1, 0]]])>"
      ]
     },
     "execution_count": 107,
     "metadata": {},
     "output_type": "execute_result"
    }
   ],
   "source": [
    "# argsort stack\n",
    "tf.argsort(stack, direction=\"DESCENDING\")"
   ]
  },
  {
   "cell_type": "code",
   "execution_count": null,
   "id": "e5780578",
   "metadata": {},
   "outputs": [],
   "source": []
  }
 ],
 "metadata": {
  "kernelspec": {
   "display_name": "Python 3",
   "language": "python",
   "name": "python3"
  },
  "language_info": {
   "codemirror_mode": {
    "name": "ipython",
    "version": 3
   },
   "file_extension": ".py",
   "mimetype": "text/x-python",
   "name": "python",
   "nbconvert_exporter": "python",
   "pygments_lexer": "ipython3",
   "version": "3.10.7"
  }
 },
 "nbformat": 4,
 "nbformat_minor": 5
}
